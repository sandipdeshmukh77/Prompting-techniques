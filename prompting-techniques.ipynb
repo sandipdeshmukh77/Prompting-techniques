{
 "cells": [
  {
   "cell_type": "code",
   "execution_count": null,
   "id": "9ba606b1",
   "metadata": {},
   "outputs": [],
   "source": [
    "%pip install openai"
   ]
  },
  {
   "cell_type": "code",
   "execution_count": null,
   "id": "9212ff30",
   "metadata": {},
   "outputs": [],
   "source": [
    "%pip install dotenv"
   ]
  },
  {
   "cell_type": "code",
   "execution_count": 5,
   "id": "05ed6cee",
   "metadata": {},
   "outputs": [
    {
     "data": {
      "text/plain": [
       "True"
      ]
     },
     "execution_count": 5,
     "metadata": {},
     "output_type": "execute_result"
    }
   ],
   "source": [
    "import os\n",
    "from dotenv import load_dotenv\n",
    "load_dotenv()  # take environment variables from .env."
   ]
  },
  {
   "cell_type": "code",
   "execution_count": null,
   "id": "a256f984",
   "metadata": {},
   "outputs": [],
   "source": [
    "from openai import OpenAI\n",
    "# Set up the OpenAI client with Google API key \n",
    "# note : you can use openai sdk with google key \n",
    "client = OpenAI(\n",
    "        api_key=os.getenv('GOOGLE_API_KEY'),\n",
    "        base_url=\"https://generativelanguage.googleapis.com/v1beta/openai/\"\n",
    ")"
   ]
  },
  {
   "cell_type": "code",
   "execution_count": 7,
   "id": "2b9b50e3",
   "metadata": {},
   "outputs": [
    {
     "name": "stdout",
     "output_type": "stream",
     "text": [
      "The capital of India is **New Delhi**.\n",
      "\n"
     ]
    }
   ],
   "source": [
    "def call_llm(query):\n",
    "    response = client.chat.completions.create(\n",
    "                model=\"gemini-2.0-flash\",\n",
    "                messages=query\n",
    "            )\n",
    "    return response.choices[0].message.content\n",
    "print(call_llm([{\"role\": \"user\", \"content\": \"what is the capital of India?\"}]))"
   ]
  }
 ],
 "metadata": {
  "kernelspec": {
   "display_name": ".venv",
   "language": "python",
   "name": "python3"
  },
  "language_info": {
   "codemirror_mode": {
    "name": "ipython",
    "version": 3
   },
   "file_extension": ".py",
   "mimetype": "text/x-python",
   "name": "python",
   "nbconvert_exporter": "python",
   "pygments_lexer": "ipython3",
   "version": "3.13.3"
  }
 },
 "nbformat": 4,
 "nbformat_minor": 5
}
