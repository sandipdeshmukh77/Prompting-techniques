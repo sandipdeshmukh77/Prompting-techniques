{
 "cells": [
  {
   "cell_type": "code",
   "execution_count": null,
   "id": "9ba606b1",
   "metadata": {},
   "outputs": [],
   "source": [
    "%pip install openai"
   ]
  },
  {
   "cell_type": "code",
   "execution_count": null,
   "id": "9212ff30",
   "metadata": {},
   "outputs": [],
   "source": [
    "%pip install dotenv"
   ]
  },
  {
   "cell_type": "code",
   "execution_count": 5,
   "id": "05ed6cee",
   "metadata": {},
   "outputs": [
    {
     "data": {
      "text/plain": [
       "True"
      ]
     },
     "execution_count": 5,
     "metadata": {},
     "output_type": "execute_result"
    }
   ],
   "source": [
    "import os\n",
    "from dotenv import load_dotenv\n",
    "load_dotenv()  # take environment variables from .env."
   ]
  },
  {
   "cell_type": "code",
   "execution_count": null,
   "id": "a256f984",
   "metadata": {},
   "outputs": [],
   "source": [
    "from openai import OpenAI\n",
    "# Set up the OpenAI client with Google API key \n",
    "# note : you can use openai sdk with google key \n",
    "client = OpenAI(\n",
    "        api_key=os.getenv('GOOGLE_API_KEY'),\n",
    "        base_url=\"https://generativelanguage.googleapis.com/v1beta/openai/\"\n",
    ")"
   ]
  },
  {
   "cell_type": "code",
   "execution_count": 7,
   "id": "2b9b50e3",
   "metadata": {},
   "outputs": [
    {
     "name": "stdout",
     "output_type": "stream",
     "text": [
      "The capital of India is **New Delhi**.\n",
      "\n"
     ]
    }
   ],
   "source": [
    "def call_llm(query):\n",
    "    response = client.chat.completions.create(\n",
    "                model=\"gemini-2.0-flash\",\n",
    "                messages=query\n",
    "            )\n",
    "    return response.choices[0].message.content\n",
    "print(call_llm([{\"role\": \"user\", \"content\": \"what is the capital of India?\"}]))"
   ]
  },
  {
   "cell_type": "markdown",
   "id": "471c92d6",
   "metadata": {},
   "source": [
    "### 1. Zero-shot Prompting\n",
    "In zero-shot prompting, you provide only the task description—no examples."
   ]
  },
  {
   "cell_type": "code",
   "execution_count": 8,
   "id": "7f7be97d",
   "metadata": {},
   "outputs": [
    {
     "name": "stdout",
     "output_type": "stream",
     "text": [
      "There are several ways to translate \"How are you?\" into Hindi, depending on the level of formality and who you are speaking to:\n",
      "\n",
      "*   **क्या हाल है? (Kya haal hai?)** - This is a common and informal way to ask \"How are you?\" It's generally used with friends and people you know well.\n",
      "\n",
      "*   **आप कैसे हैं? (Aap kaise hain?)** - This is a more formal and polite way to ask \"How are you?\"  It is used with elders, strangers, or people you want to show respect to.\n",
      "\n",
      "*   **कैसे हो? (Kaise ho?)** - This is another common way of asking \"How are you?\", and is less formal than \"Aap kaise hain?\" but more so than \"Kya haal hai?\". It's generally used with people of similar age or those you are familiar with. This form is masculine, use with men.\n",
      "\n",
      "*   **कैसी हो? (Kaisi ho?)** - This is the feminine form of the above. Use with women of similar age or those you are familiar with.\n",
      "\n",
      "Therefore, the most common and general translation is:\n",
      "\n",
      "**आप कैसे हैं? (Aap kaise hain?)**\n",
      "\n"
     ]
    }
   ],
   "source": [
    "from openai import OpenAI\n",
    "\n",
    "def zero_shot_prompting(query):\n",
    "    prompt = \"Translate the following English sentence to Hindi:\\n\" + query\n",
    "    response = call_llm([{\"role\": \"user\", \"content\": prompt}])\n",
    "    return response\n",
    "\n",
    "print(zero_shot_prompting(\"How are you?\"))"
   ]
  },
  {
   "cell_type": "markdown",
   "id": "5ee9697f",
   "metadata": {},
   "source": [
    "### 2. Few-shot Prompting\n",
    "In this prompting technique you provide a few examples in the prompt to guide the model."
   ]
  },
  {
   "cell_type": "code",
   "execution_count": 12,
   "id": "d3a414ff",
   "metadata": {},
   "outputs": [
    {
     "name": "stdout",
     "output_type": "stream",
     "text": [
      "Okay, here are a few options for translating \"nice to meet you\" into Hindi, with slight variations in formality and nuance:\n",
      "\n",
      "*   **Aap se milkar khushi hui.** (आप से मिलकर खुशी हुई।) - This is a very common and generally polite way to say \"Nice to meet you.\" It literally translates to \"I felt happiness meeting you.\"\n",
      "\n",
      "*   **Aap se milkar achchha laga.** (आप से मिलकर अच्छा लगा।) - This is similar to the previous one and also very common. It translates to \"I felt good meeting you.\"\n",
      "\n",
      "*   **Milkar achchha laga.** (मिलकर अच्छा लगा।) - Less formal, but still polite. It's shorter and translates to \"Felt good meeting (you).\" Can be used with people of similar age or standing.\n",
      "\n",
      "*   **Aap se milkar bahut khushi hui.** (आप से मिलकर बहुत खुशी हुई।) - More emphatic, meaning \"Very nice to meet you\" or \"I was very happy to meet you.\"\n",
      "\n",
      "*   **Mujhe aapse milkar khushi hui.** (मुझे आपसे मिलकर खुशी हुई।) - Similar to the first option, but with a slight change in word order emphasizing the speaker's feeling of happiness. Translates to \"I felt happiness meeting you.\"\n",
      "\n",
      "**Therefore, the best and most widely used answer is:**\n",
      "\n",
      "*   **Aap se milkar khushi hui.** (आप से मिलकर खुशी हुई।)\n",
      "\n"
     ]
    }
   ],
   "source": [
    "def few_shot_prompting(query):\n",
    "    prompt = \"\"\"\n",
    "                Translate the following English sentences to Hindi:\n",
    "                e.g\n",
    "                - Hello -> Namaste\n",
    "                - Good night -> Shubh Ratri\n",
    "                - Thank you -> Dhanyawad\n",
    "                - {query} -> \"answer in Hindi\"\n",
    "            \"\"\"    \n",
    "    final_prompt = prompt.format(query=query)\n",
    "    response = call_llm([{\"role\": \"user\", \"content\": final_prompt}])\n",
    "    return response\n",
    "\n",
    "print(few_shot_prompting(\"nice to meet you\")) # Aap se milkar khushi hui , and more variation as well"
   ]
  },
  {
   "cell_type": "markdown",
   "id": "7b8001c9",
   "metadata": {},
   "source": [
    "### 3. Chain-of-Thought (CoT) Prompting\n",
    "Encourage the model to answer step-by-step."
   ]
  },
  {
   "cell_type": "code",
   "execution_count": 15,
   "id": "f4fb34c7",
   "metadata": {},
   "outputs": [
    {
     "name": "stdout",
     "output_type": "stream",
     "text": [
      "1. Speed = 50 mph\n",
      "2. Time = 3 hours\n",
      "3. Distance = Speed × Time = 50 × 3 = 150 miles\n",
      "Therefore, the car traveled 150 miles.\n",
      "\n"
     ]
    }
   ],
   "source": [
    "def cot_prompting(question):\n",
    "    prompt = f\"\"\"\n",
    "        Q: A train travels 60 miles per hour for 2 hours. How far did it go?\n",
    "        A: Let's think step-by-step.\n",
    "     \n",
    "        1. Speed = 60 mph\n",
    "        2. Time = 2 hours\n",
    "        3. Distance = Speed × Time = 60 × 2 = 120 miles\n",
    "    Therefore, the train traveled 120 miles.\n",
    "        \n",
    "        Q: {question}\n",
    "        A: Let's think step-by-step.\n",
    "    \"\"\"\n",
    "    response = call_llm([{\"role\": \"user\", \"content\": prompt}])\n",
    "    return response\n",
    "\n",
    "print(cot_prompting(\"A car travels 50 mph for 3 hours. How far did it go?\"))"
   ]
  },
  {
   "cell_type": "markdown",
   "id": "6127eed4",
   "metadata": {},
   "source": [
    "### 4. Instruction Prompting\n",
    "Direct the model explicitly with instructions.\n"
   ]
  },
  {
   "cell_type": "code",
   "execution_count": 16,
   "id": "3de696dd",
   "metadata": {},
   "outputs": [
    {
     "name": "stdout",
     "output_type": "stream",
     "text": [
      "LangChain is a tool that helps developers create applications powered by large language models (LLMs).\n",
      "\n"
     ]
    }
   ],
   "source": [
    "def instruction_prompting(task, data):\n",
    "    prompt = f\"Please {task}:\\n{data}\"\n",
    "    response = call_llm([{\"role\": \"user\", \"content\": prompt}])\n",
    "    return response\n",
    "\n",
    "print(instruction_prompting(\"summarize\", \"LangChain is an open-source framework for building LLM applications.\"))"
   ]
  },
  {
   "cell_type": "markdown",
   "id": "84cd9801",
   "metadata": {},
   "source": [
    "### 5. Direct Answer Prompting\n",
    "Ask the model to provide just the final answer, no explanations."
   ]
  },
  {
   "cell_type": "code",
   "execution_count": 18,
   "id": "8498def7",
   "metadata": {},
   "outputs": [
    {
     "name": "stdout",
     "output_type": "stream",
     "text": [
      "New Delhi\n"
     ]
    }
   ],
   "source": [
    "def direct_answer_prompting(question):\n",
    "    prompt = f\"Q: {question}\\nA:\"\n",
    "    response = call_llm([{\"role\": \"user\", \"content\": prompt}])\n",
    "    return response.strip()\n",
    "\n",
    "print(direct_answer_prompting(\"What is the capital of India?\"))"
   ]
  },
  {
   "cell_type": "markdown",
   "id": "20580400",
   "metadata": {},
   "source": [
    "### 6. Persona-based Prompting\n",
    "Assign a persona to the model to get responses in a specific voice or tone."
   ]
  },
  {
   "cell_type": "code",
   "execution_count": 19,
   "id": "734b95ac",
   "metadata": {},
   "outputs": [
    {
     "name": "stdout",
     "output_type": "stream",
     "text": [
      "Ah, the theory of relativity. It's not nearly as complicated as some make it out to be, though it *does* require a bit of a shift in how we perceive the universe. Essentially, it's not just one theory, but two interconnected ideas: special relativity and general relativity.\n",
      "\n",
      "Let's start with **special relativity**. This one deals with how space and time are intertwined when things are moving at constant speeds. The core idea is this: the laws of physics are the same for everyone in uniform motion, regardless of their speed. Think of it like this: you're on a train moving smoothly. You can play ping-pong on the train as easily as you could on the ground. The laws of physics don't change just because you're moving.\n",
      "\n",
      "Now, a consequence of this is that the speed of light in a vacuum is constant for all observers, regardless of their motion relative to the light source. This might seem odd, but it's been proven experimentally. This constant speed of light has some rather surprising effects. As things approach the speed of light:\n",
      "\n",
      "*   Time slows down. (Time dilation)\n",
      "*   Lengths contract. (Length contraction)\n",
      "*   Mass increases. (Mass-energy equivalence, perhaps best captured by the famous equation E=mc²)\n",
      "\n",
      "In essence, **special relativity deals with the interconnectedness of space and time within a uniform, unchanging environment.** It is a framework which revolutionized the understanding of how physics works in extreme scenarios, especially involving high velocities.\n",
      "\n",
      "Now, **general relativity** is the really interesting one, in my opinion. It builds upon special relativity and incorporates gravity. This theory proposes that gravity isn't a force in the traditional sense, like electromagnetism. Instead, **gravity is a curvature in spacetime caused by mass and energy**. Think of it like this: imagine a bowling ball placed on a stretched rubber sheet. The bowling ball creates a dip, causing marbles rolling nearby to curve towards it. Mass and energy do the same thing to spacetime, causing objects to move along curved paths that we perceive as gravitational attraction.\n",
      "\n",
      "So, a planet orbits a star not because of a \"force\" pulling it in, but because the planet is following the curves in spacetime created by the star's mass. Light itself is affected by gravity, as its path is also curved by the presence of massive objects. In summary, **general relativity describes how gravity arises from the curvature of spacetime induced by mass and energy, impacting the motion of objects and even light.**\n",
      "\n",
      "Taken together, the theory of relativity represents a profoundly different way of understanding the universe than what came before. It shows that space and time are not absolute, but are relative to the observer and are affected by gravity and motion. They are not just a stage upon which things happen, but are active participants in the drama of the cosmos. It's a framework which continues to shape modern physics and cosmology, guiding us toward a deeper understanding of the universe's secrets. I do hope this helps you understand it a little better. It's a rather beautiful theory, isn't it?\n",
      "\n"
     ]
    }
   ],
   "source": [
    "def persona_prompting(question):\n",
    "    prompt = f\"You are Albert Einstein. Answer the following in your own words:\\n{question}\"\n",
    "    response = call_llm([{\"role\": \"user\", \"content\": prompt}])\n",
    "    return response\n",
    "\n",
    "print(persona_prompting(\"What is the theory of relativity?\"))"
   ]
  },
  {
   "cell_type": "markdown",
   "id": "438a83e0",
   "metadata": {},
   "source": [
    "### 7. Role-Playing Prompting\n",
    "Put the model into a simulated role or situation."
   ]
  },
  {
   "cell_type": "code",
   "execution_count": 22,
   "id": "e1b7db10",
   "metadata": {},
   "outputs": [
    {
     "name": "stdout",
     "output_type": "stream",
     "text": [
      "Okay, welcome to Mumbai! Get ready for a vibrant, bustling, and unforgettable experience. Here's a 3-day itinerary that balances iconic landmarks, cultural experiences, and a taste of local life. This is designed for a first-time visitor and assumes you're comfortable using local transportation (taxis, Uber/Ola are plentiful) and have a moderate level of fitness for walking.\n",
      "\n",
      "**Important Notes Before You Go:**\n",
      "\n",
      "*   **Visa:** Make sure you have the necessary visa for India before you travel.\n",
      "*   **Currency:** Indian Rupee (INR). ATMs are readily available, but inform your bank of your travel plans.\n",
      "*   **Dress Code:** Dress respectfully, especially when visiting religious sites. Shoulders and knees should be covered. Light, breathable clothing is recommended due to the heat and humidity.\n",
      "*   **Health:** Consult your doctor about necessary vaccinations and health precautions. Drink bottled water only.\n",
      "*   **Safety:** Mumbai is generally safe, but be aware of your belongings, especially in crowded areas.\n",
      "*   **Transportation:** Uber/Ola are convenient. Local taxis (black and yellow) are also available, but be sure to negotiate the fare beforehand. Mumbai's local trains are a vital mode of transport but can be extremely crowded, especially during peak hours. Consider them for a short, off-peak experience but perhaps not for long distances on your first visit.\n",
      "*   **Accommodation:** I am not making any lodging suggestions because that will vary based on preference.\n",
      "\n",
      "**Day 1: Colonial Charm & Gateway to India**\n",
      "\n",
      "*   **Morning (9:00 AM):** Begin your journey at the iconic **Gateway of India**. Marvel at this magnificent archway, a symbol of Mumbai. Hire a local photographer for a classic picture.\n",
      "*   **Late Morning (10:30 AM):** Take a short ferry ride from the Gateway of India to **Elephanta Island** (ferries depart regularly). Explore the ancient cave temples dedicated to Lord Shiva, a UNESCO World Heritage Site. Allow at least 2-3 hours for the visit, including the ferry ride to and fro.\n",
      "*   **Lunch (2:00 PM):** Back in Mumbai, head to **Britannia & Co.** near Ballard Estate. This Parsi institution serves delicious berry pulao and other Parsi specialties in a charming, old-world setting.\n",
      "*   **Afternoon (3:30 PM):** Explore the **Chhatrapati Shivaji Maharaj Terminus (CST)** (formerly Victoria Terminus), a stunning example of Victorian Gothic architecture and a UNESCO World Heritage Site. Take a walk inside to appreciate its design.\n",
      "*   **Late Afternoon (4:30 PM):** Wander through the **Fort area**, a historic district with colonial-era buildings, including the High Court, University of Mumbai, and the Municipal Corporation Building. Enjoy the architectural beauty and take photos.\n",
      "*   **Evening (6:30 PM):** Enjoy a leisurely stroll along **Marine Drive**, also known as the \"Queen's Necklace.\" Watch the sunset over the Arabian Sea.\n",
      "*   **Dinner (8:30 PM):** Enjoy dinner at **Khyber** in Kala Ghoda, known for its authentic North Indian cuisine.\n",
      "\n",
      "**Day 2: Bollywood & Local Flavors**\n",
      "\n",
      "*   **Morning (9:00 AM):** Immerse yourself in the world of Bollywood with a **Bollywood Studio Tour**. Several tour operators offer guided tours of film studios, where you can witness film sets, costumes, and possibly even spot some actors (booking in advance is highly recommended).\n",
      "*   **Lunch (1:00 PM):** Have lunch at **Prithvi Cafe** in Juhu. It's a popular spot known for its casual ambience and delicious food, often frequented by actors and theatre professionals.\n",
      "*   **Afternoon (2:30 PM):** Experience the vibrant **Dharavi Slum**, one of the largest slums in Asia. Take a guided tour with a reputable organization (e.g., Reality Tours and Travel) that supports the community. This is a humbling and eye-opening experience that provides a different perspective on Mumbai. (Please do this respectfully and only with a responsible tour operator).\n",
      "*   **Late Afternoon (5:00 PM):** Visit the **Dhobi Ghat**, the world's largest open-air laundry. Witness the fascinating process of clothes washing on a massive scale.\n",
      "*   **Evening (6:30 PM):** Indulge in some street food at **Girgaum Chowpatty Beach**. Sample local delicacies like *pani puri, bhel puri, pav bhaji,* and *gola* (flavored shaved ice).\n",
      "*   **Dinner (8:30 PM):** Head to **Cafe Leopold** in Colaba. One of Mumbai's oldest cafes, it has a storied history and offers a diverse menu with both Indian and international options.\n",
      "\n",
      "**Day 3: Art, History & Spirituality**\n",
      "\n",
      "*   **Morning (9:00 AM):** Visit the **Chhatrapati Shivaji Maharaj Vastu Sangrahalaya** (formerly Prince of Wales Museum). This museum houses a vast collection of Indian art, history, archaeology, and natural history.\n",
      "*   **Late Morning (11:00 AM):** Explore the **Kala Ghoda Art Precinct**, a vibrant area with art galleries, cafes, and boutiques. Visit the **Jehangir Art Gallery** to see works by contemporary Indian artists.\n",
      "*   **Lunch (1:00 PM):** Enjoy lunch at **The Bombay Canteen** in Lower Parel, known for its innovative take on regional Indian cuisine.\n",
      "*   **Afternoon (2:30 PM):** Visit the **Mani Bhavan Gandhi Museum**, a former residence of Mahatma Gandhi. Learn about his life and work.\n",
      "*   **Late Afternoon (4:00 PM):** Immerse yourself in spirituality at the **Haji Ali Dargah**, a mosque and tomb located on an islet off the coast of Worli. Accessible only during low tide, this iconic landmark offers stunning views of the city.\n",
      "*   **Evening (6:00 PM):** Shop for souvenirs and handicrafts at **Colaba Causeway**, a bustling street market with a wide variety of items.\n",
      "*   **Farewell Dinner (8:00 PM):** Enjoy a delicious seafood dinner at **Trishna** in Kala Ghoda, known for its delectable crab dishes.\n",
      "\n",
      "**Optional Activities (If you have more time or want to substitute):**\n",
      "\n",
      "*   **Banganga Tank:** An ancient water tank with temples around it, offering a peaceful respite from the city's chaos.\n",
      "*   **Global Vipassana Pagoda:** A stunning golden pagoda on the outskirts of Mumbai, dedicated to Vipassana meditation.\n",
      "*   **Sanjay Gandhi National Park:** Escape the city and explore this large national park with hiking trails and wildlife.\n",
      "\n",
      "**Important Reminders:**\n",
      "\n",
      "*   **Bargain:** Don't be afraid to bargain when shopping at street markets.\n",
      "*   **Traffic:** Mumbai traffic can be heavy, so plan your travel accordingly.\n",
      "*   **Enjoy the chaos!** Mumbai is a sensory overload, but embrace it and enjoy the experience.\n",
      "\n",
      "Have a fantastic trip to Mumbai! I hope this itinerary gives you a great starting point for your exploration.  Let me know if you have any specific interests or questions!\n",
      "\n"
     ]
    }
   ],
   "source": [
    "def role_playing_prompting(city):\n",
    "    prompt = f\"You are a travel agent. Recommend a 3-day itinerary in {city} for a first-time visitor.\"\n",
    "    response = call_llm([{\"role\": \"user\", \"content\": prompt}])\n",
    "    return response\n",
    "\n",
    "print(role_playing_prompting(\"Mumbai\"))"
   ]
  },
  {
   "cell_type": "markdown",
   "id": "8e7e6058",
   "metadata": {},
   "source": [
    "### 8. Contextual Prompting\n",
    "Inject external knowledge or previous conversation context."
   ]
  },
  {
   "cell_type": "code",
   "execution_count": 23,
   "id": "b70c37f2",
   "metadata": {},
   "outputs": [
    {
     "name": "stdout",
     "output_type": "stream",
     "text": [
      "Plants make their own food through photosynthesis.\n",
      "\n"
     ]
    }
   ],
   "source": [
    "def contextual_prompting(question, context):\n",
    "    prompt = f\"Context:\\n{context}\\n\\nQuestion: {question}\\nAnswer:\"\n",
    "    response = call_llm([{\"role\": \"user\", \"content\": prompt}])\n",
    "    return response\n",
    "\n",
    "context = \"Photosynthesis is a process used by plants to convert light into energy.\"\n",
    "print(contextual_prompting(\"How do plants make their own food?\", context))"
   ]
  }
 ],
 "metadata": {
  "kernelspec": {
   "display_name": ".venv",
   "language": "python",
   "name": "python3"
  },
  "language_info": {
   "codemirror_mode": {
    "name": "ipython",
    "version": 3
   },
   "file_extension": ".py",
   "mimetype": "text/x-python",
   "name": "python",
   "nbconvert_exporter": "python",
   "pygments_lexer": "ipython3",
   "version": "3.13.3"
  }
 },
 "nbformat": 4,
 "nbformat_minor": 5
}
